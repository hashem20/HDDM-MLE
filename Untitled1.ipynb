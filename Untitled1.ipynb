{
  "nbformat": 4,
  "nbformat_minor": 0,
  "metadata": {
    "colab": {
      "provenance": [],
      "collapsed_sections": []
    },
    "kernelspec": {
      "name": "python3",
      "display_name": "Python 3"
    },
    "language_info": {
      "name": "python"
    }
  },
  "cells": [
    {
      "cell_type": "code",
      "execution_count": 1,
      "metadata": {
        "id": "66KD1FlumS31"
      },
      "outputs": [],
      "source": [
        "import pandas as pd\n",
        "import numpy as np"
      ]
    },
    {
      "cell_type": "code",
      "source": [
        "x = np.random.rand(100)\n",
        "x"
      ],
      "metadata": {
        "colab": {
          "base_uri": "https://localhost:8080/"
        },
        "id": "j4pXPmj4mhY2",
        "outputId": "c744eae2-3dbf-4690-de46-8bcb0c18459a"
      },
      "execution_count": 4,
      "outputs": [
        {
          "output_type": "execute_result",
          "data": {
            "text/plain": [
              "array([0.79305114, 0.70652337, 0.44456608, 0.52214193, 0.94727194,\n",
              "       0.27321169, 0.91363614, 0.35743121, 0.01946403, 0.1997393 ,\n",
              "       0.11293722, 0.2475028 , 0.05779936, 0.2992333 , 0.75889333,\n",
              "       0.78416749, 0.03219219, 0.08685413, 0.96414151, 0.91428618,\n",
              "       0.53888858, 0.66224819, 0.79933308, 0.1854512 , 0.18484878,\n",
              "       0.13952642, 0.30869128, 0.79051756, 0.76005224, 0.81221875,\n",
              "       0.72017496, 0.06116221, 0.09634675, 0.14148163, 0.62062099,\n",
              "       0.08583878, 0.43054611, 0.76050104, 0.91668143, 0.3889395 ,\n",
              "       0.02498915, 0.5741899 , 0.36839972, 0.72872458, 0.10190938,\n",
              "       0.40447844, 0.97303489, 0.09142764, 0.21724801, 0.82841398,\n",
              "       0.53510011, 0.27688458, 0.33643045, 0.06821658, 0.48559084,\n",
              "       0.74392952, 0.07180965, 0.71426235, 0.264108  , 0.96475696,\n",
              "       0.31885104, 0.57829662, 0.74658422, 0.8345645 , 0.63417273,\n",
              "       0.12723747, 0.0092213 , 0.92906646, 0.05286059, 0.59763404,\n",
              "       0.73606896, 0.28346438, 0.43482619, 0.08206731, 0.67136566,\n",
              "       0.0188214 , 0.7353676 , 0.44764026, 0.24799422, 0.77770215,\n",
              "       0.33973625, 0.83818833, 0.51813554, 0.14175222, 0.55630869,\n",
              "       0.63326747, 0.09542276, 0.72620775, 0.33854522, 0.55177584,\n",
              "       0.20942713, 0.59985009, 0.07006453, 0.58318573, 0.2610261 ,\n",
              "       0.99197123, 0.85974968, 0.90181943, 0.9044869 , 0.07005115])"
            ]
          },
          "metadata": {},
          "execution_count": 4
        }
      ]
    },
    {
      "cell_type": "code",
      "source": [
        "noise = np.random.rand(100)\n",
        "noise"
      ],
      "metadata": {
        "colab": {
          "base_uri": "https://localhost:8080/"
        },
        "id": "0jxmJBwLm7J9",
        "outputId": "19fe634d-1f95-4e62-f2fa-14a1b5937e39"
      },
      "execution_count": 6,
      "outputs": [
        {
          "output_type": "execute_result",
          "data": {
            "text/plain": [
              "array([0.94057712, 0.20246968, 0.48159698, 0.98377822, 0.26820667,\n",
              "       0.5103569 , 0.39412543, 0.52163208, 0.14570248, 0.766437  ,\n",
              "       0.78421304, 0.39491457, 0.76927112, 0.87605258, 0.77054696,\n",
              "       0.82473333, 0.43614647, 0.55526276, 0.94366683, 0.00642098,\n",
              "       0.17131793, 0.11212805, 0.86872876, 0.13283828, 0.05815015,\n",
              "       0.97976612, 0.73888802, 0.43138096, 0.14673612, 0.15415176,\n",
              "       0.84824604, 0.51235793, 0.00520402, 0.5136548 , 0.46719635,\n",
              "       0.85324608, 0.42977652, 0.46629389, 0.71984066, 0.10048641,\n",
              "       0.54750599, 0.04232823, 0.04675047, 0.89613943, 0.16419377,\n",
              "       0.18541579, 0.09540857, 0.26182908, 0.91684602, 0.33146032,\n",
              "       0.94367325, 0.91407405, 0.54825136, 0.3659193 , 0.8726484 ,\n",
              "       0.97909541, 0.80675979, 0.0344021 , 0.50386507, 0.03396642,\n",
              "       0.30350383, 0.30581148, 0.06670715, 0.05847304, 0.79418889,\n",
              "       0.97661273, 0.21380647, 0.52166522, 0.41953907, 0.61557854,\n",
              "       0.44226518, 0.23699175, 0.47285436, 0.29724633, 0.30185752,\n",
              "       0.76780134, 0.26480386, 0.69073031, 0.15392603, 0.11795781,\n",
              "       0.6526142 , 0.60015112, 0.38091795, 0.50836553, 0.72672036,\n",
              "       0.87260779, 0.20756759, 0.73691339, 0.33010447, 0.84775646,\n",
              "       0.73035235, 0.2654103 , 0.78331407, 0.05131932, 0.25816537,\n",
              "       0.40481401, 0.66292477, 0.46230936, 0.91806063, 0.07397796])"
            ]
          },
          "metadata": {},
          "execution_count": 6
        }
      ]
    },
    {
      "cell_type": "code",
      "source": [
        "y = 5 * x + noise\n",
        "y"
      ],
      "metadata": {
        "colab": {
          "base_uri": "https://localhost:8080/"
        },
        "id": "0ayXCWjemhbP",
        "outputId": "d7706b7d-d62f-490a-b6f6-f47604b1d03f"
      },
      "execution_count": 7,
      "outputs": [
        {
          "output_type": "execute_result",
          "data": {
            "text/plain": [
              "array([4.90583282, 3.73508651, 2.7044274 , 3.59448788, 5.00456636,\n",
              "       1.87641534, 4.96230614, 2.30878813, 0.24302262, 1.76513352,\n",
              "       1.34889915, 1.63242856, 1.0582679 , 2.3722191 , 4.56501361,\n",
              "       4.7455708 , 0.59710742, 0.9895334 , 5.76437437, 4.57785191,\n",
              "       2.86576083, 3.42336901, 4.86539417, 1.0600943 , 0.98239407,\n",
              "       1.67739824, 2.28234441, 4.38396878, 3.94699733, 4.21524551,\n",
              "       4.44912084, 0.81816897, 0.48693775, 1.22106295, 3.57030131,\n",
              "       1.28243998, 2.58250708, 4.26879911, 5.30324782, 2.04518391,\n",
              "       0.67245172, 2.91327772, 1.88874907, 4.53976234, 0.67374065,\n",
              "       2.20780801, 4.96058302, 0.7189673 , 2.00308607, 4.47353023,\n",
              "       3.61917381, 2.29849694, 2.23040363, 0.70700221, 3.30060258,\n",
              "       4.69874303, 1.16580802, 3.60571383, 1.82440506, 4.85775124,\n",
              "       1.89775901, 3.19729456, 3.79962825, 4.23129554, 3.96505256,\n",
              "       1.61280008, 0.25991298, 5.16699755, 0.68384203, 3.60374875,\n",
              "       4.12260998, 1.65431366, 2.6469853 , 0.70758286, 3.65868583,\n",
              "       0.86190833, 3.94164186, 2.92893158, 1.39389711, 4.00646855,\n",
              "       2.35129548, 4.79109279, 2.97159563, 1.21712663, 3.5082638 ,\n",
              "       4.03894515, 0.68468138, 4.36795212, 2.02283058, 3.60663568,\n",
              "       1.777488  , 3.26466077, 1.13363672, 2.96724798, 1.56329588,\n",
              "       5.36467015, 4.96167316, 4.97140649, 5.44049513, 0.42423368])"
            ]
          },
          "metadata": {},
          "execution_count": 7
        }
      ]
    },
    {
      "cell_type": "code",
      "source": [
        "from sklearn.linear_model import LinearRegression"
      ],
      "metadata": {
        "id": "AQgsG59wmheB"
      },
      "execution_count": 8,
      "outputs": []
    },
    {
      "cell_type": "code",
      "source": [
        "model = LinearRegression()"
      ],
      "metadata": {
        "id": "EBf43VngmhgD"
      },
      "execution_count": 9,
      "outputs": []
    },
    {
      "cell_type": "code",
      "source": [
        "model.fit(x,y)"
      ],
      "metadata": {
        "colab": {
          "base_uri": "https://localhost:8080/",
          "height": 692
        },
        "id": "TURcL0eOnHYd",
        "outputId": "11c03112-14e1-4a54-f86f-fbc7d99bf83b"
      },
      "execution_count": 10,
      "outputs": [
        {
          "output_type": "error",
          "ename": "ValueError",
          "evalue": "ignored",
          "traceback": [
            "\u001b[0;31m---------------------------------------------------------------------------\u001b[0m",
            "\u001b[0;31mValueError\u001b[0m                                Traceback (most recent call last)",
            "\u001b[0;32m<ipython-input-10-cecb4634e72d>\u001b[0m in \u001b[0;36m<module>\u001b[0;34m\u001b[0m\n\u001b[0;32m----> 1\u001b[0;31m \u001b[0mmodel\u001b[0m\u001b[0;34m.\u001b[0m\u001b[0mfit\u001b[0m\u001b[0;34m(\u001b[0m\u001b[0mx\u001b[0m\u001b[0;34m,\u001b[0m\u001b[0my\u001b[0m\u001b[0;34m)\u001b[0m\u001b[0;34m\u001b[0m\u001b[0;34m\u001b[0m\u001b[0m\n\u001b[0m",
            "\u001b[0;32m/usr/local/lib/python3.7/dist-packages/sklearn/linear_model/_base.py\u001b[0m in \u001b[0;36mfit\u001b[0;34m(self, X, y, sample_weight)\u001b[0m\n\u001b[1;32m    661\u001b[0m \u001b[0;34m\u001b[0m\u001b[0m\n\u001b[1;32m    662\u001b[0m         X, y = self._validate_data(\n\u001b[0;32m--> 663\u001b[0;31m             \u001b[0mX\u001b[0m\u001b[0;34m,\u001b[0m \u001b[0my\u001b[0m\u001b[0;34m,\u001b[0m \u001b[0maccept_sparse\u001b[0m\u001b[0;34m=\u001b[0m\u001b[0maccept_sparse\u001b[0m\u001b[0;34m,\u001b[0m \u001b[0my_numeric\u001b[0m\u001b[0;34m=\u001b[0m\u001b[0;32mTrue\u001b[0m\u001b[0;34m,\u001b[0m \u001b[0mmulti_output\u001b[0m\u001b[0;34m=\u001b[0m\u001b[0;32mTrue\u001b[0m\u001b[0;34m\u001b[0m\u001b[0;34m\u001b[0m\u001b[0m\n\u001b[0m\u001b[1;32m    664\u001b[0m         )\n\u001b[1;32m    665\u001b[0m \u001b[0;34m\u001b[0m\u001b[0m\n",
            "\u001b[0;32m/usr/local/lib/python3.7/dist-packages/sklearn/base.py\u001b[0m in \u001b[0;36m_validate_data\u001b[0;34m(self, X, y, reset, validate_separately, **check_params)\u001b[0m\n\u001b[1;32m    579\u001b[0m                 \u001b[0my\u001b[0m \u001b[0;34m=\u001b[0m \u001b[0mcheck_array\u001b[0m\u001b[0;34m(\u001b[0m\u001b[0my\u001b[0m\u001b[0;34m,\u001b[0m \u001b[0;34m**\u001b[0m\u001b[0mcheck_y_params\u001b[0m\u001b[0;34m)\u001b[0m\u001b[0;34m\u001b[0m\u001b[0;34m\u001b[0m\u001b[0m\n\u001b[1;32m    580\u001b[0m             \u001b[0;32melse\u001b[0m\u001b[0;34m:\u001b[0m\u001b[0;34m\u001b[0m\u001b[0;34m\u001b[0m\u001b[0m\n\u001b[0;32m--> 581\u001b[0;31m                 \u001b[0mX\u001b[0m\u001b[0;34m,\u001b[0m \u001b[0my\u001b[0m \u001b[0;34m=\u001b[0m \u001b[0mcheck_X_y\u001b[0m\u001b[0;34m(\u001b[0m\u001b[0mX\u001b[0m\u001b[0;34m,\u001b[0m \u001b[0my\u001b[0m\u001b[0;34m,\u001b[0m \u001b[0;34m**\u001b[0m\u001b[0mcheck_params\u001b[0m\u001b[0;34m)\u001b[0m\u001b[0;34m\u001b[0m\u001b[0;34m\u001b[0m\u001b[0m\n\u001b[0m\u001b[1;32m    582\u001b[0m             \u001b[0mout\u001b[0m \u001b[0;34m=\u001b[0m \u001b[0mX\u001b[0m\u001b[0;34m,\u001b[0m \u001b[0my\u001b[0m\u001b[0;34m\u001b[0m\u001b[0;34m\u001b[0m\u001b[0m\n\u001b[1;32m    583\u001b[0m \u001b[0;34m\u001b[0m\u001b[0m\n",
            "\u001b[0;32m/usr/local/lib/python3.7/dist-packages/sklearn/utils/validation.py\u001b[0m in \u001b[0;36mcheck_X_y\u001b[0;34m(X, y, accept_sparse, accept_large_sparse, dtype, order, copy, force_all_finite, ensure_2d, allow_nd, multi_output, ensure_min_samples, ensure_min_features, y_numeric, estimator)\u001b[0m\n\u001b[1;32m    974\u001b[0m         \u001b[0mensure_min_samples\u001b[0m\u001b[0;34m=\u001b[0m\u001b[0mensure_min_samples\u001b[0m\u001b[0;34m,\u001b[0m\u001b[0;34m\u001b[0m\u001b[0;34m\u001b[0m\u001b[0m\n\u001b[1;32m    975\u001b[0m         \u001b[0mensure_min_features\u001b[0m\u001b[0;34m=\u001b[0m\u001b[0mensure_min_features\u001b[0m\u001b[0;34m,\u001b[0m\u001b[0;34m\u001b[0m\u001b[0;34m\u001b[0m\u001b[0m\n\u001b[0;32m--> 976\u001b[0;31m         \u001b[0mestimator\u001b[0m\u001b[0;34m=\u001b[0m\u001b[0mestimator\u001b[0m\u001b[0;34m,\u001b[0m\u001b[0;34m\u001b[0m\u001b[0;34m\u001b[0m\u001b[0m\n\u001b[0m\u001b[1;32m    977\u001b[0m     )\n\u001b[1;32m    978\u001b[0m \u001b[0;34m\u001b[0m\u001b[0m\n",
            "\u001b[0;32m/usr/local/lib/python3.7/dist-packages/sklearn/utils/validation.py\u001b[0m in \u001b[0;36mcheck_array\u001b[0;34m(array, accept_sparse, accept_large_sparse, dtype, order, copy, force_all_finite, ensure_2d, allow_nd, ensure_min_samples, ensure_min_features, estimator)\u001b[0m\n\u001b[1;32m    771\u001b[0m                     \u001b[0;34m\"Reshape your data either using array.reshape(-1, 1) if \"\u001b[0m\u001b[0;34m\u001b[0m\u001b[0;34m\u001b[0m\u001b[0m\n\u001b[1;32m    772\u001b[0m                     \u001b[0;34m\"your data has a single feature or array.reshape(1, -1) \"\u001b[0m\u001b[0;34m\u001b[0m\u001b[0;34m\u001b[0m\u001b[0m\n\u001b[0;32m--> 773\u001b[0;31m                     \u001b[0;34m\"if it contains a single sample.\"\u001b[0m\u001b[0;34m.\u001b[0m\u001b[0mformat\u001b[0m\u001b[0;34m(\u001b[0m\u001b[0marray\u001b[0m\u001b[0;34m)\u001b[0m\u001b[0;34m\u001b[0m\u001b[0;34m\u001b[0m\u001b[0m\n\u001b[0m\u001b[1;32m    774\u001b[0m                 )\n\u001b[1;32m    775\u001b[0m \u001b[0;34m\u001b[0m\u001b[0m\n",
            "\u001b[0;31mValueError\u001b[0m: Expected 2D array, got 1D array instead:\narray=[0.79305114 0.70652337 0.44456608 0.52214193 0.94727194 0.27321169\n 0.91363614 0.35743121 0.01946403 0.1997393  0.11293722 0.2475028\n 0.05779936 0.2992333  0.75889333 0.78416749 0.03219219 0.08685413\n 0.96414151 0.91428618 0.53888858 0.66224819 0.79933308 0.1854512\n 0.18484878 0.13952642 0.30869128 0.79051756 0.76005224 0.81221875\n 0.72017496 0.06116221 0.09634675 0.14148163 0.62062099 0.08583878\n 0.43054611 0.76050104 0.91668143 0.3889395  0.02498915 0.5741899\n 0.36839972 0.72872458 0.10190938 0.40447844 0.97303489 0.09142764\n 0.21724801 0.82841398 0.53510011 0.27688458 0.33643045 0.06821658\n 0.48559084 0.74392952 0.07180965 0.71426235 0.264108   0.96475696\n 0.31885104 0.57829662 0.74658422 0.8345645  0.63417273 0.12723747\n 0.0092213  0.92906646 0.05286059 0.59763404 0.73606896 0.28346438\n 0.43482619 0.08206731 0.67136566 0.0188214  0.7353676  0.44764026\n 0.24799422 0.77770215 0.33973625 0.83818833 0.51813554 0.14175222\n 0.55630869 0.63326747 0.09542276 0.72620775 0.33854522 0.55177584\n 0.20942713 0.59985009 0.07006453 0.58318573 0.2610261  0.99197123\n 0.85974968 0.90181943 0.9044869  0.07005115].\nReshape your data either using array.reshape(-1, 1) if your data has a single feature or array.reshape(1, -1) if it contains a single sample."
          ]
        }
      ]
    },
    {
      "cell_type": "code",
      "source": [
        "x = x.reshape(-1,1)\n",
        "y = y.reshape(-1,1)"
      ],
      "metadata": {
        "id": "NnyqS3ehnKJO"
      },
      "execution_count": 11,
      "outputs": []
    },
    {
      "cell_type": "code",
      "source": [
        "model.fit(x,y)"
      ],
      "metadata": {
        "colab": {
          "base_uri": "https://localhost:8080/"
        },
        "id": "nLB9sUS9nW8P",
        "outputId": "6d901fc2-2935-4e3d-bc2c-8e22d85278cf"
      },
      "execution_count": 12,
      "outputs": [
        {
          "output_type": "execute_result",
          "data": {
            "text/plain": [
              "LinearRegression()"
            ]
          },
          "metadata": {},
          "execution_count": 12
        }
      ]
    },
    {
      "cell_type": "code",
      "source": [
        "model.coef_"
      ],
      "metadata": {
        "colab": {
          "base_uri": "https://localhost:8080/"
        },
        "id": "plVd0rzQnYfw",
        "outputId": "8abb1de4-9870-46fa-f0e3-691a81fd93f4"
      },
      "execution_count": 13,
      "outputs": [
        {
          "output_type": "execute_result",
          "data": {
            "text/plain": [
              "array([[4.97115091]])"
            ]
          },
          "metadata": {},
          "execution_count": 13
        }
      ]
    },
    {
      "cell_type": "code",
      "source": [
        "model.intercept_"
      ],
      "metadata": {
        "colab": {
          "base_uri": "https://localhost:8080/"
        },
        "id": "uUcJNo1EnayU",
        "outputId": "dba308c8-a502-4d4b-d0e4-d5d29309f71c"
      },
      "execution_count": 14,
      "outputs": [
        {
          "output_type": "execute_result",
          "data": {
            "text/plain": [
              "array([0.49631584])"
            ]
          },
          "metadata": {},
          "execution_count": 14
        }
      ]
    },
    {
      "cell_type": "code",
      "source": [
        "import matplotlib.pyplot as plt\n",
        "\n",
        "plt.plot(x,y, '.')\n",
        "plt.plot(np.a)"
      ],
      "metadata": {
        "colab": {
          "base_uri": "https://localhost:8080/",
          "height": 286
        },
        "id": "zjmpWoH-nc39",
        "outputId": "81cd531a-8bb8-4a9a-dc93-0eea7fe8d741"
      },
      "execution_count": 16,
      "outputs": [
        {
          "output_type": "execute_result",
          "data": {
            "text/plain": [
              "[<matplotlib.lines.Line2D at 0x7f62ed8d62d0>]"
            ]
          },
          "metadata": {},
          "execution_count": 16
        },
        {
          "output_type": "display_data",
          "data": {
            "text/plain": [
              "<Figure size 432x288 with 1 Axes>"
            ],
            "image/png": "[encoded data removed]"
          },
          "metadata": {
            "needs_background": "light"
          }
        }
      ]
    },
    {
      "cell_type": "code",
      "source": [],
      "metadata": {
        "id": "u300bQD4nkUc"
      },
      "execution_count": null,
      "outputs": []
    }
  ]
}